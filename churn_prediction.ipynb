{
  "nbformat": 4,
  "nbformat_minor": 0,
  "metadata": {
    "colab": {
      "provenance": []
    },
    "kernelspec": {
      "name": "python3",
      "display_name": "Python 3"
    },
    "language_info": {
      "name": "python"
    }
  },
  "cells": [
    {
      "cell_type": "markdown",
      "source": [
        "We will create a churning prediction model for a betting platform. All important information about the problem is in the documentation. <br> \n",
        "So, let's begin."
      ],
      "metadata": {
        "id": "YkHIsZbOIDda"
      }
    },
    {
      "cell_type": "markdown",
      "source": [
        "Firstly, let's upload the dataset that we will be using in creating a model.\n",
        "It is imperative that the files with the given dataset be in your Google Drive -> My Drive folder."
      ],
      "metadata": {
        "id": "0GlYuGkgkfGb"
      }
    },
    {
      "cell_type": "code",
      "source": [
        "import numpy as np \n",
        "import pandas as pd \n",
        "from datetime import datetime\n",
        "from datetime import date\n",
        "from dateutil.relativedelta import relativedelta\n",
        "from tables import index\n",
        "import plotly.express as px \n",
        "import matplotlib.pyplot as plt #for visualization\n",
        "from sklearn.preprocessing import MinMaxScaler\n",
        "import statsmodels.api as sm\n",
        "import statsmodels.formula.api as smf\n",
        "\n",
        "from google.colab import drive\n",
        "drive.mount('/content/drive')"
      ],
      "metadata": {
        "id": "_OyooNGBQncS",
        "colab": {
          "base_uri": "https://localhost:8080/"
        },
        "outputId": "9ee00f92-d7c4-43f8-d2b6-4578dd185877"
      },
      "execution_count": 1,
      "outputs": [
        {
          "output_type": "stream",
          "name": "stdout",
          "text": [
            "Mounted at /content/drive\n"
          ]
        }
      ]
    },
    {
      "cell_type": "code",
      "execution_count": 33,
      "metadata": {
        "id": "-TE5_W7FkZX-"
      },
      "outputs": [],
      "source": [
        "#running this cell might take up to 40 seconds because zadatak.csv has 23 million data rows\n",
        "pd.set_option('display.max_columns', None)\n",
        "data_df_players = pd.read_csv('/content/drive/My Drive/igraci.csv', index_col = False)\n",
        "data_df_transactions = pd.read_csv('/content/drive/My Drive/zadatak.csv', sep = ';', index_col = False)"
      ]
    },
    {
      "cell_type": "code",
      "source": [
        "# since transactions dataset has no column names, we assign them to it\n",
        "data_df_transactions.columns = ['PlayerId', 'TransactionHour', 'Product', 'TransactionType', 'Amount', 'Count']"
      ],
      "metadata": {
        "id": "K5SvZvDIsIZw"
      },
      "execution_count": 34,
      "outputs": []
    },
    {
      "cell_type": "markdown",
      "source": [
        "We can see what our datasets look like, how many features they have and if they have any missing or null values."
      ],
      "metadata": {
        "id": "I1Eqt4fQIl57"
      }
    },
    {
      "cell_type": "code",
      "source": [
        "def dataoverview(df, message):\n",
        "    print(f'{message}:')\n",
        "    print('Number of rows: ', df.shape[0])\n",
        "    print(\"Number of features:\", df.shape[1])\n",
        "    print(\"Data Features:\")\n",
        "    print(df.columns.tolist())\n",
        "    print(\"Missing values:\", df.isnull().sum().values.sum())\n",
        "    print(\"Unique values:\")\n",
        "    print(df.nunique())"
      ],
      "metadata": {
        "id": "iVAYzz-toEAo"
      },
      "execution_count": 4,
      "outputs": []
    },
    {
      "cell_type": "code",
      "source": [
        "dataoverview(data_df_transactions, 'Overview of the transaction dataset')"
      ],
      "metadata": {
        "id": "vQP6mI6S7uv3",
        "colab": {
          "base_uri": "https://localhost:8080/"
        },
        "outputId": "0682817c-3e0a-45ec-a69d-f7b461640b8a"
      },
      "execution_count": 35,
      "outputs": [
        {
          "output_type": "stream",
          "name": "stdout",
          "text": [
            "Overview of the transaction dataset:\n",
            "Number of rows:  23279661\n",
            "Number of features: 6\n",
            "Data Features:\n",
            "['PlayerId', 'TransactionHour', 'Product', 'TransactionType', 'Amount', 'Count']\n",
            "Missing values: 2\n",
            "Unique values:\n",
            "PlayerId           24465\n",
            "TransactionHour    17806\n",
            "Product                7\n",
            "TransactionType       10\n",
            "Amount             83264\n",
            "Count               2975\n",
            "dtype: int64\n"
          ]
        }
      ]
    },
    {
      "cell_type": "code",
      "source": [
        "# we remove the row that has 2 NaN values and now the data_df_transactions dataset has no more missing values\n",
        "data_df_transactions.dropna(axis= 0, inplace=True)"
      ],
      "metadata": {
        "id": "E5amr1VzoOhH"
      },
      "execution_count": 36,
      "outputs": []
    },
    {
      "cell_type": "code",
      "source": [
        "dataoverview(data_df_players, 'Overview of the players dataset')"
      ],
      "metadata": {
        "colab": {
          "base_uri": "https://localhost:8080/"
        },
        "id": "mcxspOV333Cw",
        "outputId": "dd110704-177a-4dec-bbe8-2983d1133ad6"
      },
      "execution_count": 37,
      "outputs": [
        {
          "output_type": "stream",
          "name": "stdout",
          "text": [
            "Overview of the players dataset:\n",
            "Number of rows:  35501\n",
            "Number of features: 7\n",
            "Data Features:\n",
            "['PlayerId', 'Birhtdate', 'City', 'RegistrationDate', 'RegistrationHour', 'IsOptOut', 'RegistrationTerminal']\n",
            "Missing values: 0\n",
            "Unique values:\n",
            "PlayerId                35501\n",
            "Birhtdate               13973\n",
            "City                        5\n",
            "RegistrationDate         2783\n",
            "RegistrationHour           24\n",
            "IsOptOut                    2\n",
            "RegistrationTerminal        6\n",
            "dtype: int64\n"
          ]
        }
      ]
    },
    {
      "cell_type": "markdown",
      "source": [
        "Now that we have the datasets, we can start preprocessing the data. Let's convert dates from a string format to a timestamp."
      ],
      "metadata": {
        "id": "ra1I-McV4VxW"
      }
    },
    {
      "cell_type": "code",
      "source": [
        "#removing the unnecessary ending 'PM +00:00' that stands for the timezone\n",
        "data_df_transactions['TransactionHour'] = data_df_transactions['TransactionHour'].str[:-10]\n",
        "#converting the string format of the date into a timestamp\n",
        "data_df_transactions['TransactionHour'] = pd.to_datetime(data_df_transactions['TransactionHour'], format=\"%m/%d/%Y %H:%M:%S\")"
      ],
      "metadata": {
        "id": "qTNm1hQS0CcM"
      },
      "execution_count": 38,
      "outputs": []
    },
    {
      "cell_type": "code",
      "source": [
        "#changing the typo in the column name in the dataset\n",
        "data_df_players.rename(columns = {'Birhtdate':'Birthdate'}, inplace = True)\n",
        "\n",
        "#removing the unnecessary ending 00:00:00.000000 for the time of the day since the date is only important\n",
        "data_df_players['RegistrationDate'] = data_df_players['RegistrationDate'].str[:-16]\n",
        "data_df_players['Birthdate'] = data_df_players['Birthdate'].str[:-16]\n",
        "\n",
        "#converting the string format of the date into a datetime\n",
        "data_df_players['RegistrationDate'] = pd.to_datetime(data_df_players['RegistrationDate'], format = '%Y-%m-%d')\n",
        "data_df_players['Birthdate'] = pd.to_datetime(data_df_players['Birthdate'], format = '%Y-%m-%d')"
      ],
      "metadata": {
        "id": "fyrxsB5XESeX"
      },
      "execution_count": 39,
      "outputs": []
    },
    {
      "cell_type": "markdown",
      "source": [
        "All other data seems to be alright, so there is no more need to preprocess the data. <br>\n",
        "Let's set a date for when we want our model to be run! Transaction dataset contains information from January 1st 2021 to January 12th 2023 so for our model to work, we need to set a date prior to December 12th 2022. Also, for the model to have enough data to work with, it is best not to set the run date too early(after 1st of May 2021, even though it will work, but not as accurately)."
      ],
      "metadata": {
        "id": "OBYfzaroEMN_"
      }
    },
    {
      "cell_type": "code",
      "source": [
        "modelRunTimeDay = input(\"Choose a day of the month for which you want a model to be run! Your input needs be in a number format! \")\n",
        "modelRunTimeMonth = input(\"Choose a month for which you want a model to be run! Your input needs be in a number format (1-12)! \")\n",
        "modelRunTimeYear = input(\"Choose a year for which you want a model to be run! Your input needs be in a number format (2021-2022)! \")\n",
        "modelRunTimeDateString = modelRunTimeYear + '-' + modelRunTimeMonth + '-' + modelRunTimeDay\n",
        "#this is now the date and time when we want our model to run\n",
        "modelRunTimeDate = datetime.strptime(modelRunTimeDateString, '%Y-%m-%d')\n",
        "modelRunTimeDate"
      ],
      "metadata": {
        "colab": {
          "base_uri": "https://localhost:8080/"
        },
        "id": "mjo8ApDwi7_Z",
        "outputId": "2c288f09-3c3a-4628-f076-21fb97f96f05"
      },
      "execution_count": 66,
      "outputs": [
        {
          "name": "stdout",
          "output_type": "stream",
          "text": [
            "Choose a day of the month for which you want a model to be run! Your input needs be in a number format! 1\n",
            "Choose a month for which you want a model to be run! Your input needs be in a number format (1-12)! 5\n",
            "Choose a year for which you want a model to be run! Your input needs be in a number format (2021-2022)! 2022\n"
          ]
        },
        {
          "output_type": "execute_result",
          "data": {
            "text/plain": [
              "datetime.datetime(2022, 5, 1, 0, 0)"
            ]
          },
          "metadata": {},
          "execution_count": 66
        }
      ]
    },
    {
      "cell_type": "markdown",
      "source": [
        "Now that we have the date for the model to be run, let's gather all the data that we need. \n",
        "First, we need to exclude all those customers who are classified as dormant. A customer is classified as dormant when he/she has not placed any bets or made deposits in the last 30 days. Their inactivity in the past makes them unlikely to start using services again and as such would unbalance the prediction model."
      ],
      "metadata": {
        "id": "hqfbt9bREaai"
      }
    },
    {
      "cell_type": "code",
      "source": [
        "# this is all of the data prior to the set date\n",
        "relevant_data = data_df_transactions.loc[data_df_transactions['TransactionHour'] <= modelRunTimeDate]"
      ],
      "metadata": {
        "id": "m9lhAB9h-sTj"
      },
      "execution_count": 43,
      "outputs": []
    },
    {
      "cell_type": "markdown",
      "source": [
        "First, let's exclude the dormant customers. Let's get their PlayerId and then remove them from the relevant_data dataframe."
      ],
      "metadata": {
        "id": "vvxLG8XhIWqo"
      }
    },
    {
      "cell_type": "code",
      "source": [
        "#all the unique playerIds that have transactions up to our model run time date\n",
        "PlayerIds = relevant_data['PlayerId'].unique()\n",
        "\n",
        "#let's get playerIds of all players that have been active in the past number_months month\n",
        "number_months = 1\n",
        "nondormantPlayerIds = relevant_data['PlayerId'].loc[(relevant_data['TransactionHour'] >= modelRunTimeDate - relativedelta(months=number_months)) &\n",
        "                                                    ((relevant_data['TransactionType'] == 'Deposit') | (relevant_data['TransactionType'] == 'TicketPayin'))].unique()\n",
        "\n",
        "# we get dormant players ids by seeing which ids are in PlayerIds.unique() but not in nondormantPlayerIds.unique()\n",
        "dormantPlayerIds = PlayerIds[~np.isin(PlayerIds,nondormantPlayerIds)]\n",
        "\n",
        "print(len(PlayerIds))\n",
        "print(len(nondormantPlayerIds)) # these are the players that we will use in creating our model\n",
        "print(len(dormantPlayerIds))\n",
        "\n",
        "# we remove all transactions by those (dormant) players from our relevant_data dataframe\n",
        "relevant_data.drop(relevant_data[relevant_data['PlayerId'].isin(dormantPlayerIds)].index, inplace=True)"
      ],
      "metadata": {
        "id": "URApIfHvIaaO",
        "colab": {
          "base_uri": "https://localhost:8080/"
        },
        "outputId": "0e83f34f-b0a5-4e79-ea9c-82eeeefdffca"
      },
      "execution_count": 44,
      "outputs": [
        {
          "output_type": "stream",
          "name": "stdout",
          "text": [
            "10574\n",
            "8049\n",
            "2525\n"
          ]
        }
      ]
    },
    {
      "cell_type": "code",
      "source": [
        "dataoverview(relevant_data, 'Overview of the transaction dataset before the set run date')"
      ],
      "metadata": {
        "id": "_QhVaf8dzLyX"
      },
      "execution_count": null,
      "outputs": []
    },
    {
      "cell_type": "markdown",
      "source": [
        "Okay, now we reached a point where we have all the data we need to be able to run our prediction model for the date that we chose. \n",
        "Let's set the conditions for labeling our players as churners or not churners.\n",
        "<br>"
      ],
      "metadata": {
        "id": "Fsn1BopY92PG"
      }
    },
    {
      "cell_type": "code",
      "source": [
        "# conditions mark that the players with ids next_month_player_id in have made a bet or placed a deposit\n",
        "# in the following month so they have not churned\n",
        "condition1 = data_df_transactions['TransactionHour'] >= modelRunTimeDate\n",
        "condition2 = data_df_transactions['TransactionHour'] <= (modelRunTimeDate + relativedelta(months=1))\n",
        "condition3 = (data_df_transactions['TransactionType'] == 'Deposit') | (data_df_transactions['TransactionType'] == 'TicketPayin')\n",
        "next_month_player_id = data_df_transactions.loc[(condition1) & (condition2) & (condition3), 'PlayerId']"
      ],
      "metadata": {
        "id": "X0g0eaSyHsg3"
      },
      "execution_count": 45,
      "outputs": []
    },
    {
      "cell_type": "markdown",
      "source": [
        "We create another dataframe that has all information on our players, and that dataframe will be the one that we train our model on."
      ],
      "metadata": {
        "id": "sGsyDgnaYIzy"
      }
    },
    {
      "cell_type": "code",
      "source": [
        "# dataframe that only consists of data of our important (nondormant) players\n",
        "relevant_data_players = data_df_players[data_df_players['PlayerId'].isin(nondormantPlayerIds)]"
      ],
      "metadata": {
        "id": "x2BIi6e8N4XC"
      },
      "execution_count": 46,
      "outputs": []
    },
    {
      "cell_type": "code",
      "source": [
        "dataoverview(relevant_data_players, 'relevant_data_players dataset')"
      ],
      "metadata": {
        "id": "WeOHU_rmkajn"
      },
      "execution_count": null,
      "outputs": []
    },
    {
      "cell_type": "markdown",
      "source": [
        "We add the values to the players: 1 if they have churned, 0 if they have not."
      ],
      "metadata": {
        "id": "1GpLCYxaLXoJ"
      }
    },
    {
      "cell_type": "code",
      "source": [
        "# this cell might take up to 2 minutes to run\n",
        "# adding values to our players' 'Churn' column\n",
        "# if a playerId is amongst the next_month_player_ids then they have not churned as we assign the value 0\n",
        "relevant_data_players['Churn'] = relevant_data_players['PlayerId'].apply(lambda x: 0 if x in next_month_player_id.unique() else 1)"
      ],
      "metadata": {
        "id": "Rp7j_dSORzPH"
      },
      "execution_count": null,
      "outputs": []
    },
    {
      "cell_type": "markdown",
      "source": [
        "Let's examine how many churners we have."
      ],
      "metadata": {
        "id": "EGNMB9e8fVQe"
      }
    },
    {
      "cell_type": "code",
      "source": [
        "target_feature = relevant_data_players['Churn'].value_counts().to_frame()\n",
        "target_feature = target_feature.reset_index()\n",
        "target_feature = target_feature.rename(columns={'index': 'Category'})\n",
        "fig = px.pie(target_feature, values='Churn', names='Category', color_discrete_sequence=[\"green\", \"red\"], title='Distribution of Churn')\n",
        "fig.show()"
      ],
      "metadata": {
        "colab": {
          "base_uri": "https://localhost:8080/",
          "height": 542
        },
        "id": "04zmZ0Znv6jr",
        "outputId": "bfd21588-8c11-44a1-9331-4db6a1d42da3"
      },
      "execution_count": 48,
      "outputs": [
        {
          "output_type": "display_data",
          "data": {
            "text/html": [
              "<html>\n",
              "<head><meta charset=\"utf-8\" /></head>\n",
              "<body>\n",
              "    <div>            <script src=\"https://cdnjs.cloudflare.com/ajax/libs/mathjax/2.7.5/MathJax.js?config=TeX-AMS-MML_SVG\"></script><script type=\"text/javascript\">if (window.MathJax) {MathJax.Hub.Config({SVG: {font: \"STIX-Web\"}});}</script>                <script type=\"text/javascript\">window.PlotlyConfig = {MathJaxConfig: 'local'};</script>\n",
              "        <script src=\"https://cdn.plot.ly/plotly-2.8.3.min.js\"></script>                <div id=\"e1c5250d-d9c1-40bb-8ac4-129f2ac288de\" class=\"plotly-graph-div\" style=\"height:525px; width:100%;\"></div>            <script type=\"text/javascript\">                                    window.PLOTLYENV=window.PLOTLYENV || {};                                    if (document.getElementById(\"e1c5250d-d9c1-40bb-8ac4-129f2ac288de\")) {                    Plotly.newPlot(                        \"e1c5250d-d9c1-40bb-8ac4-129f2ac288de\",                        [{\"domain\":{\"x\":[0.0,1.0],\"y\":[0.0,1.0]},\"hovertemplate\":\"Category=%{label}<br>Churn=%{value}<extra></extra>\",\"labels\":[0,1],\"legendgroup\":\"\",\"name\":\"\",\"showlegend\":true,\"values\":[6550,1499],\"type\":\"pie\"}],                        {\"template\":{\"data\":{\"bar\":[{\"error_x\":{\"color\":\"#2a3f5f\"},\"error_y\":{\"color\":\"#2a3f5f\"},\"marker\":{\"line\":{\"color\":\"#E5ECF6\",\"width\":0.5},\"pattern\":{\"fillmode\":\"overlay\",\"size\":10,\"solidity\":0.2}},\"type\":\"bar\"}],\"barpolar\":[{\"marker\":{\"line\":{\"color\":\"#E5ECF6\",\"width\":0.5},\"pattern\":{\"fillmode\":\"overlay\",\"size\":10,\"solidity\":0.2}},\"type\":\"barpolar\"}],\"carpet\":[{\"aaxis\":{\"endlinecolor\":\"#2a3f5f\",\"gridcolor\":\"white\",\"linecolor\":\"white\",\"minorgridcolor\":\"white\",\"startlinecolor\":\"#2a3f5f\"},\"baxis\":{\"endlinecolor\":\"#2a3f5f\",\"gridcolor\":\"white\",\"linecolor\":\"white\",\"minorgridcolor\":\"white\",\"startlinecolor\":\"#2a3f5f\"},\"type\":\"carpet\"}],\"choropleth\":[{\"colorbar\":{\"outlinewidth\":0,\"ticks\":\"\"},\"type\":\"choropleth\"}],\"contour\":[{\"colorbar\":{\"outlinewidth\":0,\"ticks\":\"\"},\"colorscale\":[[0.0,\"#0d0887\"],[0.1111111111111111,\"#46039f\"],[0.2222222222222222,\"#7201a8\"],[0.3333333333333333,\"#9c179e\"],[0.4444444444444444,\"#bd3786\"],[0.5555555555555556,\"#d8576b\"],[0.6666666666666666,\"#ed7953\"],[0.7777777777777778,\"#fb9f3a\"],[0.8888888888888888,\"#fdca26\"],[1.0,\"#f0f921\"]],\"type\":\"contour\"}],\"contourcarpet\":[{\"colorbar\":{\"outlinewidth\":0,\"ticks\":\"\"},\"type\":\"contourcarpet\"}],\"heatmap\":[{\"colorbar\":{\"outlinewidth\":0,\"ticks\":\"\"},\"colorscale\":[[0.0,\"#0d0887\"],[0.1111111111111111,\"#46039f\"],[0.2222222222222222,\"#7201a8\"],[0.3333333333333333,\"#9c179e\"],[0.4444444444444444,\"#bd3786\"],[0.5555555555555556,\"#d8576b\"],[0.6666666666666666,\"#ed7953\"],[0.7777777777777778,\"#fb9f3a\"],[0.8888888888888888,\"#fdca26\"],[1.0,\"#f0f921\"]],\"type\":\"heatmap\"}],\"heatmapgl\":[{\"colorbar\":{\"outlinewidth\":0,\"ticks\":\"\"},\"colorscale\":[[0.0,\"#0d0887\"],[0.1111111111111111,\"#46039f\"],[0.2222222222222222,\"#7201a8\"],[0.3333333333333333,\"#9c179e\"],[0.4444444444444444,\"#bd3786\"],[0.5555555555555556,\"#d8576b\"],[0.6666666666666666,\"#ed7953\"],[0.7777777777777778,\"#fb9f3a\"],[0.8888888888888888,\"#fdca26\"],[1.0,\"#f0f921\"]],\"type\":\"heatmapgl\"}],\"histogram\":[{\"marker\":{\"pattern\":{\"fillmode\":\"overlay\",\"size\":10,\"solidity\":0.2}},\"type\":\"histogram\"}],\"histogram2d\":[{\"colorbar\":{\"outlinewidth\":0,\"ticks\":\"\"},\"colorscale\":[[0.0,\"#0d0887\"],[0.1111111111111111,\"#46039f\"],[0.2222222222222222,\"#7201a8\"],[0.3333333333333333,\"#9c179e\"],[0.4444444444444444,\"#bd3786\"],[0.5555555555555556,\"#d8576b\"],[0.6666666666666666,\"#ed7953\"],[0.7777777777777778,\"#fb9f3a\"],[0.8888888888888888,\"#fdca26\"],[1.0,\"#f0f921\"]],\"type\":\"histogram2d\"}],\"histogram2dcontour\":[{\"colorbar\":{\"outlinewidth\":0,\"ticks\":\"\"},\"colorscale\":[[0.0,\"#0d0887\"],[0.1111111111111111,\"#46039f\"],[0.2222222222222222,\"#7201a8\"],[0.3333333333333333,\"#9c179e\"],[0.4444444444444444,\"#bd3786\"],[0.5555555555555556,\"#d8576b\"],[0.6666666666666666,\"#ed7953\"],[0.7777777777777778,\"#fb9f3a\"],[0.8888888888888888,\"#fdca26\"],[1.0,\"#f0f921\"]],\"type\":\"histogram2dcontour\"}],\"mesh3d\":[{\"colorbar\":{\"outlinewidth\":0,\"ticks\":\"\"},\"type\":\"mesh3d\"}],\"parcoords\":[{\"line\":{\"colorbar\":{\"outlinewidth\":0,\"ticks\":\"\"}},\"type\":\"parcoords\"}],\"pie\":[{\"automargin\":true,\"type\":\"pie\"}],\"scatter\":[{\"marker\":{\"colorbar\":{\"outlinewidth\":0,\"ticks\":\"\"}},\"type\":\"scatter\"}],\"scatter3d\":[{\"line\":{\"colorbar\":{\"outlinewidth\":0,\"ticks\":\"\"}},\"marker\":{\"colorbar\":{\"outlinewidth\":0,\"ticks\":\"\"}},\"type\":\"scatter3d\"}],\"scattercarpet\":[{\"marker\":{\"colorbar\":{\"outlinewidth\":0,\"ticks\":\"\"}},\"type\":\"scattercarpet\"}],\"scattergeo\":[{\"marker\":{\"colorbar\":{\"outlinewidth\":0,\"ticks\":\"\"}},\"type\":\"scattergeo\"}],\"scattergl\":[{\"marker\":{\"colorbar\":{\"outlinewidth\":0,\"ticks\":\"\"}},\"type\":\"scattergl\"}],\"scattermapbox\":[{\"marker\":{\"colorbar\":{\"outlinewidth\":0,\"ticks\":\"\"}},\"type\":\"scattermapbox\"}],\"scatterpolar\":[{\"marker\":{\"colorbar\":{\"outlinewidth\":0,\"ticks\":\"\"}},\"type\":\"scatterpolar\"}],\"scatterpolargl\":[{\"marker\":{\"colorbar\":{\"outlinewidth\":0,\"ticks\":\"\"}},\"type\":\"scatterpolargl\"}],\"scatterternary\":[{\"marker\":{\"colorbar\":{\"outlinewidth\":0,\"ticks\":\"\"}},\"type\":\"scatterternary\"}],\"surface\":[{\"colorbar\":{\"outlinewidth\":0,\"ticks\":\"\"},\"colorscale\":[[0.0,\"#0d0887\"],[0.1111111111111111,\"#46039f\"],[0.2222222222222222,\"#7201a8\"],[0.3333333333333333,\"#9c179e\"],[0.4444444444444444,\"#bd3786\"],[0.5555555555555556,\"#d8576b\"],[0.6666666666666666,\"#ed7953\"],[0.7777777777777778,\"#fb9f3a\"],[0.8888888888888888,\"#fdca26\"],[1.0,\"#f0f921\"]],\"type\":\"surface\"}],\"table\":[{\"cells\":{\"fill\":{\"color\":\"#EBF0F8\"},\"line\":{\"color\":\"white\"}},\"header\":{\"fill\":{\"color\":\"#C8D4E3\"},\"line\":{\"color\":\"white\"}},\"type\":\"table\"}]},\"layout\":{\"annotationdefaults\":{\"arrowcolor\":\"#2a3f5f\",\"arrowhead\":0,\"arrowwidth\":1},\"autotypenumbers\":\"strict\",\"coloraxis\":{\"colorbar\":{\"outlinewidth\":0,\"ticks\":\"\"}},\"colorscale\":{\"diverging\":[[0,\"#8e0152\"],[0.1,\"#c51b7d\"],[0.2,\"#de77ae\"],[0.3,\"#f1b6da\"],[0.4,\"#fde0ef\"],[0.5,\"#f7f7f7\"],[0.6,\"#e6f5d0\"],[0.7,\"#b8e186\"],[0.8,\"#7fbc41\"],[0.9,\"#4d9221\"],[1,\"#276419\"]],\"sequential\":[[0.0,\"#0d0887\"],[0.1111111111111111,\"#46039f\"],[0.2222222222222222,\"#7201a8\"],[0.3333333333333333,\"#9c179e\"],[0.4444444444444444,\"#bd3786\"],[0.5555555555555556,\"#d8576b\"],[0.6666666666666666,\"#ed7953\"],[0.7777777777777778,\"#fb9f3a\"],[0.8888888888888888,\"#fdca26\"],[1.0,\"#f0f921\"]],\"sequentialminus\":[[0.0,\"#0d0887\"],[0.1111111111111111,\"#46039f\"],[0.2222222222222222,\"#7201a8\"],[0.3333333333333333,\"#9c179e\"],[0.4444444444444444,\"#bd3786\"],[0.5555555555555556,\"#d8576b\"],[0.6666666666666666,\"#ed7953\"],[0.7777777777777778,\"#fb9f3a\"],[0.8888888888888888,\"#fdca26\"],[1.0,\"#f0f921\"]]},\"colorway\":[\"#636efa\",\"#EF553B\",\"#00cc96\",\"#ab63fa\",\"#FFA15A\",\"#19d3f3\",\"#FF6692\",\"#B6E880\",\"#FF97FF\",\"#FECB52\"],\"font\":{\"color\":\"#2a3f5f\"},\"geo\":{\"bgcolor\":\"white\",\"lakecolor\":\"white\",\"landcolor\":\"#E5ECF6\",\"showlakes\":true,\"showland\":true,\"subunitcolor\":\"white\"},\"hoverlabel\":{\"align\":\"left\"},\"hovermode\":\"closest\",\"mapbox\":{\"style\":\"light\"},\"paper_bgcolor\":\"white\",\"plot_bgcolor\":\"#E5ECF6\",\"polar\":{\"angularaxis\":{\"gridcolor\":\"white\",\"linecolor\":\"white\",\"ticks\":\"\"},\"bgcolor\":\"#E5ECF6\",\"radialaxis\":{\"gridcolor\":\"white\",\"linecolor\":\"white\",\"ticks\":\"\"}},\"scene\":{\"xaxis\":{\"backgroundcolor\":\"#E5ECF6\",\"gridcolor\":\"white\",\"gridwidth\":2,\"linecolor\":\"white\",\"showbackground\":true,\"ticks\":\"\",\"zerolinecolor\":\"white\"},\"yaxis\":{\"backgroundcolor\":\"#E5ECF6\",\"gridcolor\":\"white\",\"gridwidth\":2,\"linecolor\":\"white\",\"showbackground\":true,\"ticks\":\"\",\"zerolinecolor\":\"white\"},\"zaxis\":{\"backgroundcolor\":\"#E5ECF6\",\"gridcolor\":\"white\",\"gridwidth\":2,\"linecolor\":\"white\",\"showbackground\":true,\"ticks\":\"\",\"zerolinecolor\":\"white\"}},\"shapedefaults\":{\"line\":{\"color\":\"#2a3f5f\"}},\"ternary\":{\"aaxis\":{\"gridcolor\":\"white\",\"linecolor\":\"white\",\"ticks\":\"\"},\"baxis\":{\"gridcolor\":\"white\",\"linecolor\":\"white\",\"ticks\":\"\"},\"bgcolor\":\"#E5ECF6\",\"caxis\":{\"gridcolor\":\"white\",\"linecolor\":\"white\",\"ticks\":\"\"}},\"title\":{\"x\":0.05},\"xaxis\":{\"automargin\":true,\"gridcolor\":\"white\",\"linecolor\":\"white\",\"ticks\":\"\",\"title\":{\"standoff\":15},\"zerolinecolor\":\"white\",\"zerolinewidth\":2},\"yaxis\":{\"automargin\":true,\"gridcolor\":\"white\",\"linecolor\":\"white\",\"ticks\":\"\",\"title\":{\"standoff\":15},\"zerolinecolor\":\"white\",\"zerolinewidth\":2}}},\"legend\":{\"tracegroupgap\":0},\"title\":{\"text\":\"Distribution of Churn\"},\"piecolorway\":[\"green\",\"red\"]},                        {\"responsive\": true}                    ).then(function(){\n",
              "                            \n",
              "var gd = document.getElementById('e1c5250d-d9c1-40bb-8ac4-129f2ac288de');\n",
              "var x = new MutationObserver(function (mutations, observer) {{\n",
              "        var display = window.getComputedStyle(gd).display;\n",
              "        if (!display || display === 'none') {{\n",
              "            console.log([gd, 'removed!']);\n",
              "            Plotly.purge(gd);\n",
              "            observer.disconnect();\n",
              "        }}\n",
              "}});\n",
              "\n",
              "// Listen for the removal of the full notebook cells\n",
              "var notebookContainer = gd.closest('#notebook-container');\n",
              "if (notebookContainer) {{\n",
              "    x.observe(notebookContainer, {childList: true});\n",
              "}}\n",
              "\n",
              "// Listen for the clearing of the current output cell\n",
              "var outputEl = gd.closest('.output');\n",
              "if (outputEl) {{\n",
              "    x.observe(outputEl, {childList: true});\n",
              "}}\n",
              "\n",
              "                        })                };                            </script>        </div>\n",
              "</body>\n",
              "</html>"
            ]
          },
          "metadata": {}
        }
      ]
    },
    {
      "cell_type": "markdown",
      "source": [
        "Now we have our relevant_data_players dataset with all players who are important to building our model and we have classified them as churners or not churners.\n",
        "We also have their transaction history in the relevant_data dataset until the date when we run the model. <br> To use both of those datasets at the same time, we will merge them."
      ],
      "metadata": {
        "id": "qDo9qdXctbaD"
      }
    },
    {
      "cell_type": "code",
      "source": [
        "merged_df = pd.merge(relevant_data, relevant_data_players, on='PlayerId')"
      ],
      "metadata": {
        "id": "sQovo6ZM0bNn"
      },
      "execution_count": 49,
      "outputs": []
    },
    {
      "cell_type": "code",
      "source": [
        "dataoverview(merged_df, 'Our merged dataset')"
      ],
      "metadata": {
        "id": "HPGtfqLi0pSn"
      },
      "execution_count": null,
      "outputs": []
    },
    {
      "cell_type": "markdown",
      "source": [
        "\n",
        "We need to get more data for our model to be of high performance. Let's create some features that will be useful for training our model. In the next three cells we are going to create some dataframes that will help us calculate and add those features to our relevant_data_players dataset."
      ],
      "metadata": {
        "id": "1iYV7W_lQcmW"
      }
    },
    {
      "cell_type": "code",
      "source": [
        "first_transaction_df = merged_df.groupby('PlayerId')['TransactionHour'].min().reset_index()\n",
        "first_transaction_df = first_transaction_df.rename(columns={'TransactionHour': 'FirstTransactionHour'})\n",
        "first_transaction_df['TransactionTenure'] = ((modelRunTimeDate.year - pd.to_datetime(first_transaction_df['FirstTransactionHour']).dt.year) * 12 + \n",
        "                                            (modelRunTimeDate.month - pd.to_datetime(first_transaction_df['FirstTransactionHour']).dt.month))"
      ],
      "metadata": {
        "id": "Gece4Jc32O4R"
      },
      "execution_count": 50,
      "outputs": []
    },
    {
      "cell_type": "markdown",
      "source": [
        "The next cell will gather data on the player's transactions in the last month. This will hopefully give us some information on the players latest activities and trends. "
      ],
      "metadata": {
        "id": "2t_1pwHSBL8b"
      }
    },
    {
      "cell_type": "code",
      "source": [
        "month = merged_df[merged_df['TransactionHour'] >= (modelRunTimeDate - relativedelta(months=1))]\n",
        "\n",
        "# total value of bonus received by the player in the last month\n",
        "total_bonus_month_df = month.query('TransactionType == \"Bonus\"').groupby('PlayerId')['Amount'].sum().reset_index()\n",
        "total_bonus_month_df = total_bonus_month_df.rename(columns={'Amount': 'MonthBonus'})\n",
        "\n",
        "# total value of withdrawal made by the player in the last month\n",
        "total_withdrawal_month_df = month.query('TransactionType == \"Withdrawal\"').groupby('PlayerId')['Amount'].sum().reset_index()\n",
        "total_withdrawal_month_df = total_withdrawal_month_df.rename(columns={'Amount': 'MonthWithdrawal'})\n",
        "\n",
        "# total value of tickets win made by the player in the last month\n",
        "total_ticketwin_month_df = month.query('TransactionType == \"TicketWin\"').groupby('PlayerId')['Amount'].sum().reset_index()\n",
        "total_ticketwin_month_df = total_ticketwin_month_df.rename(columns={'Amount': 'MonthWin'})\n",
        "\n",
        "# total value of tickets paid by the player in the last month\n",
        "total_ticketpayin_month_df = month.query('TransactionType == \"TicketPayin\"').groupby('PlayerId')['Amount'].sum().reset_index()\n",
        "total_ticketpayin_month_df = total_ticketpayin_month_df.rename(columns={'Amount': 'MonthPayin'})\n",
        "\n",
        "# total value of deposits by the player in the last month\n",
        "total_deposit_month_df = month.query('TransactionType == \"Deposit\"').groupby('PlayerId')['Amount'].sum().reset_index()\n",
        "total_deposit_month_df = total_deposit_month_df.rename(columns={'Amount': 'MonthDeposit'})\n",
        "\n",
        "# frequency of deposits made by the player in the last month\n",
        "count_deposit_month_df = month.query('TransactionType == \"Deposit\"').groupby('PlayerId')['Count'].count().reset_index()\n",
        "count_deposit_month_df = count_deposit_month_df.rename(columns={'Count': 'MonthFreqDeposit'})\n",
        "\n",
        "# frequency of tickets paid by the player in the last month\n",
        "count_ticketpayin_month_df = month.query('TransactionType == \"TicketPayin\"').groupby('PlayerId')['Count'].count().reset_index()\n",
        "count_ticketpayin_month_df = count_ticketpayin_month_df.rename(columns={'Count': 'MonthFreqPayin'})"
      ],
      "metadata": {
        "id": "z3j_G7a7_r_Y"
      },
      "execution_count": 51,
      "outputs": []
    },
    {
      "cell_type": "markdown",
      "source": [
        "The next cell gathers data on the player's transactions overall until the date the model is run. We can then compare that to the player's activities in the last month and see changing trends. This will later be useful in training our model."
      ],
      "metadata": {
        "id": "YduRzrw0Baly"
      }
    },
    {
      "cell_type": "code",
      "source": [
        "# total deposits made by the player before the model run date\n",
        "total_deposit_overall_df = merged_df.query('TransactionType == \"Deposit\"').groupby('PlayerId')['Amount'].sum().reset_index()\n",
        "total_deposit_overall_df = total_deposit_overall_df.rename(columns={'Amount': 'TotalDeposit'})\n",
        "\n",
        "# total ticket payin made by the player before the model run date\n",
        "total_ticketpayin_overall_df = merged_df.query('TransactionType == \"TicketPayin\"').groupby('PlayerId')['Amount'].sum().reset_index()\n",
        "total_ticketpayin_overall_df = total_ticketpayin_overall_df.rename(columns={'Amount': 'TotalPayin'})\n",
        "\n",
        "# total ticket win made by the player before the model run date\n",
        "total_ticketwin_overall_df = merged_df.query('TransactionType == \"TicketWin\"').groupby('PlayerId')['Amount'].sum().reset_index()\n",
        "total_ticketwin_overall_df = total_ticketwin_overall_df.rename(columns={'Amount': 'TotalWin'})\n",
        "\n",
        "# frequency of deposits made by the player before the model run date\n",
        "count_deposit_overall_df = merged_df.query('TransactionType == \"Deposit\"').groupby('PlayerId')['Count'].count().reset_index()\n",
        "count_deposit_overall_df = count_deposit_overall_df.rename(columns={'Count': 'TotalDepositCount'})\n",
        "\n",
        "# frequency of tickets paid by the player before the model run date\n",
        "count_ticketpayin_overall_df = merged_df.query('TransactionType == \"TicketPayin\"').groupby('PlayerId')['Count'].count().reset_index()\n",
        "count_ticketpayin_overall_df = count_ticketpayin_overall_df.rename(columns={'Count': 'TotalPayinCount'})"
      ],
      "metadata": {
        "id": "imjM8Ar5ksxr"
      },
      "execution_count": 52,
      "outputs": []
    },
    {
      "cell_type": "code",
      "source": [
        "# categorizing the product column \n",
        "merged_df.loc[merged_df['Product'] == 'Sport', 'Product'] = 1\n",
        "merged_df.loc[merged_df['Product'] == 'VirtualDogRace', 'Product'] = 2\n",
        "merged_df.loc[merged_df['Product'] == 'Casino', 'Product'] = 3\n",
        "merged_df.loc[merged_df['Product'] == 'PaymentProvider', 'Product'] = 4\n",
        "merged_df.loc[merged_df['Product'] == 'SportTournament', 'Product'] = 5\n",
        "merged_df.loc[merged_df['Product'] == 'BusinessOwner', 'Product'] = 6\n",
        "merged_df.loc[merged_df['Product'] == 'VirtualBingo', 'Product'] = 7\n",
        "\n",
        "# we will give the 'Product' column the value of that product which player used the most\n",
        "grouped_product_df = merged_df.groupby(['PlayerId', 'Product']).size().reset_index(name='ProductCount')\n",
        "most_used_products_df = grouped_product_df.groupby('PlayerId')['PlayerId', 'Product', 'ProductCount'].apply(lambda x: x.loc[x['ProductCount'].idxmax()]).reset_index(drop=True)\n",
        "most_used_products_df.drop('ProductCount', axis = 1, inplace=True)"
      ],
      "metadata": {
        "id": "EM_oTMzcpEnL"
      },
      "execution_count": null,
      "outputs": []
    },
    {
      "cell_type": "markdown",
      "source": [
        "Let's merge the created datasets to the relevant_data_players dataset."
      ],
      "metadata": {
        "id": "ZqGCnql7N0pC"
      }
    },
    {
      "cell_type": "code",
      "source": [
        "relevant_data_players = relevant_data_players.merge(first_transaction_df, on='PlayerId')\n",
        "relevant_data_players = relevant_data_players.merge(total_bonus_month_df, on='PlayerId', how='left').fillna(0)\n",
        "relevant_data_players = relevant_data_players.merge(total_withdrawal_month_df, on='PlayerId', how='left').fillna(0)\n",
        "relevant_data_players = relevant_data_players.merge(total_ticketwin_month_df, on='PlayerId', how='left').fillna(0)\n",
        "relevant_data_players = relevant_data_players.merge(total_ticketpayin_month_df, on='PlayerId', how='left').fillna(0)\n",
        "relevant_data_players = relevant_data_players.merge(count_deposit_month_df, on='PlayerId', how='left').fillna(0)\n",
        "relevant_data_players = relevant_data_players.merge(count_ticketpayin_month_df, on='PlayerId', how='left').fillna(0)\n",
        "relevant_data_players = relevant_data_players.merge(most_used_products_df, on='PlayerId', how='left').fillna(0)\n",
        "relevant_data_players = relevant_data_players.merge(total_deposit_overall_df, on='PlayerId', how='left').fillna(0)\n",
        "relevant_data_players = relevant_data_players.merge(total_ticketpayin_overall_df, on='PlayerId', how='left').fillna(0)\n",
        "relevant_data_players = relevant_data_players.merge(total_ticketwin_overall_df, on='PlayerId', how='left').fillna(0)\n",
        "relevant_data_players = relevant_data_players.merge(count_deposit_overall_df, on='PlayerId', how='left').fillna(0)\n",
        "relevant_data_players = relevant_data_players.merge(count_ticketpayin_overall_df, on='PlayerId', how='left').fillna(0)\n",
        "relevant_data_players = relevant_data_players.merge(total_deposit_month_df, on='PlayerId', how='left').fillna(0)"
      ],
      "metadata": {
        "id": "3SOHWQI2DUCD"
      },
      "execution_count": 54,
      "outputs": []
    },
    {
      "cell_type": "code",
      "source": [
        "dataoverview(relevant_data_players, 'relevant_data_players dataset')"
      ],
      "metadata": {
        "id": "uQGckYKTlMZl"
      },
      "execution_count": null,
      "outputs": []
    },
    {
      "cell_type": "code",
      "source": [
        "relevant_data_players['MonthRatioWinPayin'] = relevant_data_players['MonthWin'] / relevant_data_players['MonthPayin']\n",
        "relevant_data_players['OverallRatioWinPayin'] = relevant_data_players['TotalWin'] / relevant_data_players['TotalPayin']\n",
        "relevant_data_players['OverallAverageDeposit'] = relevant_data_players['TotalDeposit'] / relevant_data_players['TotalDepositCount']\n",
        "relevant_data_players['OverallAveragePayin'] = relevant_data_players['TotalPayin'] / relevant_data_players['TotalPayinCount']\n",
        "relevant_data_players['OverallFreqDeposit'] = relevant_data_players['TotalDepositCount'] / relevant_data_players['TransactionTenure']\n",
        "relevant_data_players['OverallFreqPayin'] = relevant_data_players['TotalPayinCount'] / relevant_data_players['TransactionTenure']\n",
        "relevant_data_players['Age'] = date.today().year - pd.to_datetime(relevant_data_players['Birthdate']).dt.year\n",
        "relevant_data_players['RegistrationTenure'] = ((modelRunTimeDate.year - relevant_data_players['RegistrationDate'].dt.year) * 12 + \n",
        "                                              (modelRunTimeDate.month - relevant_data_players['RegistrationDate'].dt.month))\n",
        "relevant_data_players['RatioOverallMonthWinPayin'] = relevant_data_players['MonthRatioWinPayin'] / relevant_data_players['OverallRatioWinPayin']\n",
        "relevant_data_players['RatioOverallMonthDeposit'] = relevant_data_players['MonthDeposit'] / relevant_data_players['OverallAverageDeposit']"
      ],
      "metadata": {
        "id": "mxyAGJh2IbmD"
      },
      "execution_count": 55,
      "outputs": []
    },
    {
      "cell_type": "markdown",
      "source": [
        "NaN values or infinity values can appear in the cell above for those players who have not made any deposits or placed bets. We will fill those with 0 or 1 respectively."
      ],
      "metadata": {
        "id": "CfDsIX1Sp6cH"
      }
    },
    {
      "cell_type": "code",
      "source": [
        "dataoverview(relevant_data_players, 'dataset') # we might have some NaN values, and some infinity values (rare but possible)"
      ],
      "metadata": {
        "id": "LtkJB49dx_xa"
      },
      "execution_count": null,
      "outputs": []
    },
    {
      "cell_type": "code",
      "source": [
        "relevant_data_players.fillna(0, inplace=True)\n",
        "relevant_data_players = relevant_data_players.replace([np.inf, -np.inf], 1)"
      ],
      "metadata": {
        "id": "H6V68Cluxvws"
      },
      "execution_count": 56,
      "outputs": []
    },
    {
      "cell_type": "markdown",
      "source": [
        "Since we used the below features in different ways, we can delete them now. For example, RegistrationDate was used to create RegistrationTenure, feature that shows the number of monhts since the registration date by the player."
      ],
      "metadata": {
        "id": "pmpLP4-POk67"
      }
    },
    {
      "cell_type": "code",
      "source": [
        "# we don't need these columns so we can delete them\n",
        "relevant_data_players.drop(['Birthdate', 'RegistrationHour', 'FirstTransactionHour', 'RegistrationDate'], axis = 1, inplace=True)"
      ],
      "metadata": {
        "id": "RlRqtOfaj4_X"
      },
      "execution_count": 57,
      "outputs": []
    },
    {
      "cell_type": "markdown",
      "source": [
        "Let's categorize and give numerical values to our features so the model can train on them."
      ],
      "metadata": {
        "id": "kgBTRQk_O6rq"
      }
    },
    {
      "cell_type": "code",
      "source": [
        "# categorizing the Age column\n",
        "relevant_data_players.loc[relevant_data_players['Age'] < 40, 'Age'] = 1\n",
        "relevant_data_players.loc[(relevant_data_players['Age'] >= 40) & (relevant_data_players['Age'] <= 65), 'Age'] = 2\n",
        "relevant_data_players.loc[relevant_data_players['Age'] > 65, 'Age'] = 3\n",
        "\n",
        "# giving a numerical value to the RegistrationTerminal column\n",
        "relevant_data_players.loc[relevant_data_players['RegistrationTerminal'] == \"Web\", 'RegistrationTerminal'] = 0\n",
        "relevant_data_players.loc[relevant_data_players['RegistrationTerminal'] == \"MobileWeb\", 'RegistrationTerminal'] = 1\n",
        "relevant_data_players.loc[relevant_data_players['RegistrationTerminal'] == \"Mobile Web\", 'RegistrationTerminal'] = 1\n",
        "relevant_data_players.loc[relevant_data_players['RegistrationTerminal'] == \"Android\", 'RegistrationTerminal'] = 2\n",
        "relevant_data_players.loc[relevant_data_players['RegistrationTerminal'] == \"iOS\", 'RegistrationTerminal'] = 3\n",
        "relevant_data_players.loc[relevant_data_players['RegistrationTerminal'] == \"Desktop Web\", 'RegistrationTerminal'] = 4\n",
        "\n",
        "# giving a numerical value to the City column\n",
        "relevant_data_players.loc[relevant_data_players['City'] == \"Trogir\", 'City'] = 0\n",
        "relevant_data_players.loc[relevant_data_players['City'] == \"Rijeka\", 'City'] = 1\n",
        "relevant_data_players.loc[relevant_data_players['City'] == \"Pazin\", 'City'] = 2\n",
        "relevant_data_players.loc[relevant_data_players['City'] == \"Cres\", 'City'] = 3\n",
        "relevant_data_players.loc[relevant_data_players['City'] == \"Dubrovnik\", 'City'] = 4\n",
        "\n",
        "# giving a numerical value to the IsOptOut column\n",
        "relevant_data_players.loc[relevant_data_players['IsOptOut'] == False, 'IsOptOut'] = 0\n",
        "relevant_data_players.loc[relevant_data_players['IsOptOut'] == True, 'IsOptOut'] = 1"
      ],
      "metadata": {
        "id": "3CZT5ii1pA7k"
      },
      "execution_count": 58,
      "outputs": []
    },
    {
      "cell_type": "markdown",
      "source": [
        "Now we have all of our data gathered in one dataset relevant_data_players and from the features of this dataset we will build a model predicting the value of a Churn feature. <br>"
      ],
      "metadata": {
        "id": "KDfty5ghNwq1"
      }
    },
    {
      "cell_type": "markdown",
      "source": [
        "Let's see how our features correlate with one another. Those who have high correlation between themselves are more linearly dependent, so we will be able to drop one of them when creating our model since they have the same effect on our target variable (for example, TotalWin and TotalPayin are highly correlated)."
      ],
      "metadata": {
        "id": "8Aw_3trCy73B"
      }
    },
    {
      "cell_type": "code",
      "source": [
        "corr = relevant_data_players.corr()\n",
        "\n",
        "fig = px.imshow(corr,width=700, height=700)\n",
        "fig.show()"
      ],
      "metadata": {
        "colab": {
          "base_uri": "https://localhost:8080/",
          "height": 717
        },
        "id": "zf5pIKMJe__n",
        "outputId": "06e6bcdb-320e-404e-c290-a07c234f4163"
      },
      "execution_count": 59,
      "outputs": [
        {
          "output_type": "display_data",
          "data": {
            "text/html": [
              "<html>\n",
              "<head><meta charset=\"utf-8\" /></head>\n",
              "<body>\n",
              "    <div>            <script src=\"https://cdnjs.cloudflare.com/ajax/libs/mathjax/2.7.5/MathJax.js?config=TeX-AMS-MML_SVG\"></script><script type=\"text/javascript\">if (window.MathJax) {MathJax.Hub.Config({SVG: {font: \"STIX-Web\"}});}</script>                <script type=\"text/javascript\">window.PlotlyConfig = {MathJaxConfig: 'local'};</script>\n",
              "        <script src=\"https://cdn.plot.ly/plotly-2.8.3.min.js\"></script>                <div id=\"c2619326-7b3b-4e95-a5f1-11ad1a4528e0\" class=\"plotly-graph-div\" style=\"height:700px; width:700px;\"></div>            <script type=\"text/javascript\">                                    window.PLOTLYENV=window.PLOTLYENV || {};                                    if (document.getElementById(\"c2619326-7b3b-4e95-a5f1-11ad1a4528e0\")) {                    Plotly.newPlot(                        \"c2619326-7b3b-4e95-a5f1-11ad1a4528e0\",                        [{\"coloraxis\":\"coloraxis\",\"name\":\"0\",\"x\":[\"PlayerId\",\"Churn\",\"TransactionTenure\",\"MonthBonus\",\"MonthWithdrawal\",\"MonthWin\",\"MonthPayin\",\"MonthFreqDeposit\",\"MonthFreqPayin\",\"Product\",\"TotalDeposit\",\"TotalPayin\",\"TotalWin\",\"TotalDepositCount\",\"TotalPayinCount\",\"MonthDeposit\",\"MonthRatioWinPayin\",\"OverallRatioWinPayin\",\"OverallAverageDeposit\",\"OverallAveragePayin\",\"OverallFreqDeposit\",\"OverallFreqPayin\",\"Age\",\"RegistrationTenure\",\"RatioOverallMonthWinPayin\",\"RatioOverallMonthDeposit\"],\"y\":[\"PlayerId\",\"Churn\",\"TransactionTenure\",\"MonthBonus\",\"MonthWithdrawal\",\"MonthWin\",\"MonthPayin\",\"MonthFreqDeposit\",\"MonthFreqPayin\",\"Product\",\"TotalDeposit\",\"TotalPayin\",\"TotalWin\",\"TotalDepositCount\",\"TotalPayinCount\",\"MonthDeposit\",\"MonthRatioWinPayin\",\"OverallRatioWinPayin\",\"OverallAverageDeposit\",\"OverallAveragePayin\",\"OverallFreqDeposit\",\"OverallFreqPayin\",\"Age\",\"RegistrationTenure\",\"RatioOverallMonthWinPayin\",\"RatioOverallMonthDeposit\"],\"z\":[[1.0,0.13850761833322325,-0.44209035982466,-0.05332936870220323,-0.0688723757283868,-0.018297077584440866,-0.01998548453206877,-0.10901371980093938,-0.08973767990060894,0.1817179467559324,-0.10792521588499515,-0.05319257698488507,-0.04938769735222361,-0.1901735067490869,-0.17348236696022878,-0.0868752965727904,-0.007086427817240359,-0.03678566247695533,-0.02330415013338665,-0.03165342053005453,-0.13106135690551432,-0.10689156479268867,0.12528886721438973,-0.8811939518717816,0.007539621321400578,-0.09946350454048968],[0.13850761833322325,1.0,-0.24923196410187154,-0.06406733456444183,-0.07118990566671157,-0.044336035486757866,-0.04656543586421811,-0.27677565533088394,-0.27488576578326884,0.011628831529076176,-0.0891621163218113,-0.06239334988213063,-0.059109874960911746,-0.2627996442158102,-0.26479325156216293,-0.10606079661424782,-0.14652910201651684,-0.14809761877873323,0.03469173920231544,-0.0066208531023157595,-0.2701174023470663,-0.2731164767038867,-0.015017521816885048,-0.10616768432911877,-0.1489482832474645,-0.2613691929763769],[-0.44209035982466,-0.24923196410187154,1.0,0.06524125953965398,0.07309276544281343,0.033872861581943615,0.03600751177766134,0.22996499935084616,0.20996013995662904,-0.0268688103096377,0.12696231130856328,0.08279126338962076,0.07898607701004985,0.35377064283304865,0.34658886139707523,0.09672358335942778,0.07425667166129767,0.15626889641934694,-0.013109731037842827,0.029474800600396284,0.2510540004324212,0.23216989183804562,-0.042871674541754584,0.3024180172362507,0.04192348100277644,0.22055999213658484],[-0.05332936870220323,-0.06406733456444183,0.06524125953965398,1.0,0.4877972281674023,0.2472339461774514,0.2656578712128832,0.2669562473582916,0.24437645627445742,-0.0673289973363349,0.7033096093320541,0.40022894970504186,0.36967047458356644,0.24517151704984996,0.220297330458987,0.7144173132912176,0.0705776883265947,0.06426570926447134,0.5216316250704444,0.22364951778578737,0.25353035163109283,0.22514933988939811,0.02171358073066437,0.04998000158476713,0.05567597097053107,0.2919588168035876],[-0.0688723757283868,-0.07118990566671157,0.07309276544281343,0.4877972281674023,1.0,0.27388413147488655,0.27226999687193126,0.3349903841087906,0.2608028582585094,-0.07251255274954256,0.6582353324913387,0.37220691657129834,0.37014347840767614,0.2985786728564647,0.22548950072794197,0.8109908708522202,0.17717132361074478,0.15830972485910053,0.3654059309154795,0.24200823310693745,0.3076458894931909,0.22786932239916738,-0.002335389717372822,0.07018548853704187,0.09551914560562436,0.38128312293274796],[-0.018297077584440866,-0.044336035486757866,0.033872861581943615,0.2472339461774514,0.27388413147488655,1.0,0.9994611578002041,0.14224634696511504,0.14546080283698443,-0.04124661997387672,0.2934863924492062,0.7689579332508528,0.7738155676597185,0.12497866786827919,0.11976214089351336,0.37720067311523386,0.05621460569154387,0.051488347005683895,0.18012029155800308,0.5068988555829571,0.1339265272791859,0.12429759834573875,0.01824849384317349,0.01974122660389316,0.036772864654500415,0.15573878698190008],[-0.01998548453206877,-0.04656543586421811,0.03600751177766134,0.2656578712128832,0.27226999687193126,0.9994611578002041,1.0,0.15005850483022262,0.1515039089644621,-0.04294598335184743,0.3092068741029063,0.77612159173023,0.7798146634593888,0.13227231870037148,0.12620567112833853,0.3922513488382009,0.05293150620419723,0.04882761767380256,0.18848938907936238,0.5095405807684739,0.14138893285850546,0.1307494659361319,0.019366596082569007,0.021043609986568,0.036303774450073795,0.16317783079353246],[-0.10901371980093938,-0.27677565533088394,0.22996499935084616,0.2669562473582916,0.3349903841087906,0.14224634696511504,0.15005850483022262,1.0,0.7670843639437338,0.014547633331428297,0.3222995828311872,0.20064797464125178,0.19261938719259294,0.8951839378377242,0.7133982379373215,0.43247018754827843,0.17461643845310684,0.15213768847335338,-0.005622864365538082,0.03747818993588388,0.9169767441129361,0.7207072670228313,0.05107653760661689,0.0747806148292384,0.15994630551784453,0.9672896966599276],[-0.08973767990060894,-0.27488576578326884,0.20996013995662904,0.24437645627445742,0.2608028582585094,0.14546080283698443,0.1515039089644621,0.7670843639437338,1.0,0.008814721266513453,0.23896241205048993,0.17374932971368423,0.1675827802825171,0.6920978717891975,0.8851025362485139,0.3316515505220395,0.20678533078207262,0.17247132534897658,0.01083183504696984,0.015429309753130048,0.7079694292571636,0.9100053167456441,0.13346752980688092,0.06614830310309536,0.19333641616919106,0.7631622055345721],[0.1817179467559324,0.011628831529076176,-0.0268688103096377,-0.0673289973363349,-0.07251255274954256,-0.04124661997387672,-0.04294598335184743,0.014547633331428297,0.008814721266513453,1.0,-0.09246579767861558,-0.05796580143829046,-0.054978681994394214,0.004249870510543255,0.01151458345501713,-0.09431556202567083,0.07353344473259417,0.07863390991490536,-0.14178080979757912,-0.06343153251924248,0.010697982606244681,0.016523977321829964,-0.010937129741035558,-0.20931284691073115,0.11192312704124768,0.01460075557238637],[-0.10792521588499515,-0.0891621163218113,0.12696231130856328,0.7033096093320541,0.6582353324913387,0.2934863924492062,0.3092068741029063,0.3222995828311872,0.23896241205048993,-0.09246579767861558,1.0,0.5803975905933441,0.5491102907780814,0.37315223868175956,0.2869519383156629,0.8591224233745607,0.0748752476586315,0.07834589581492522,0.5514380100081998,0.3455010917194878,0.36745339888819883,0.2762438483398095,0.026606836185230808,0.09958764076322385,0.054221561209728666,0.3128481879572419],[-0.05319257698488507,-0.06239334988213063,0.08279126338962076,0.40022894970504186,0.37220691657129834,0.7689579332508528,0.77612159173023,0.20064797464125178,0.17374932971368423,-0.05796580143829046,0.5803975905933441,1.0,0.9984795471655806,0.22777873258585193,0.20033584599011095,0.5473000104857704,0.06340650859261224,0.07096929907073836,0.33754136965631326,0.6615950958155854,0.2264507967262197,0.19505282191663342,0.02167768170719573,0.04614900046324431,0.036017977147469654,0.1954742446206033],[-0.04938769735222361,-0.059109874960911746,0.07898607701004985,0.36967047458356644,0.37014347840767614,0.7738155676597185,0.7798146634593888,0.19261938719259294,0.1675827802825171,-0.054978681994394214,0.5491102907780814,0.9984795471655806,1.0,0.21827687303840562,0.19230963025205397,0.5244829898483643,0.06526124513466199,0.07429003314502339,0.31970166708743697,0.6653407611874195,0.21721816175698166,0.18742141946828464,0.02048065032516311,0.04279471487923477,0.03450492508293717,0.1886091537182112],[-0.1901735067490869,-0.2627996442158102,0.35377064283304865,0.24517151704984996,0.2985786728564647,0.12497866786827919,0.13227231870037148,0.8951839378377242,0.6920978717891975,0.004249870510543255,0.37315223868175956,0.22777873258585193,0.21827687303840562,1.0,0.8035916139512154,0.3916915110867916,0.15188127252367392,0.15760037240733668,0.00635272526146392,0.0456249581290152,0.9800212398653552,0.7720855849025546,0.051608020937607635,0.13365577459819686,0.12573054803781855,0.8608666371455713],[-0.17348236696022878,-0.26479325156216293,0.34658886139707523,0.220297330458987,0.22548950072794197,0.11976214089351336,0.12620567112833853,0.7133982379373215,0.8851025362485139,0.01151458345501713,0.2869519383156629,0.20033584599011095,0.19230963025205397,0.8035916139512154,1.0,0.3050474226419211,0.16321072902445155,0.17173495026780788,0.01530752633545712,0.019512728426438322,0.7819936219684908,0.9753662478614613,0.12967052486434372,0.12513150768276232,0.1324026777486607,0.6939638842363447],[-0.0868752965727904,-0.10606079661424782,0.09672358335942778,0.7144173132912176,0.8109908708522202,0.37720067311523386,0.3922513488382009,0.43247018754827843,0.3316515505220395,-0.09431556202567083,0.8591224233745607,0.5473000104857704,0.5244829898483643,0.3916915110867916,0.3050474226419211,1.0,0.1033246664856301,0.09245264910287272,0.4493037726152684,0.2922344064332464,0.4048791375071659,0.3092789682572368,0.017832047522039957,0.08215418214467306,0.08118775863909251,0.46708035092154854],[-0.007086427817240359,-0.14652910201651684,0.07425667166129767,0.0705776883265947,0.17717132361074478,0.05621460569154387,0.05293150620419723,0.17461643845310684,0.20678533078207262,0.07353344473259417,0.0748752476586315,0.06340650859261224,0.06526124513466199,0.15188127252367392,0.16321072902445155,0.1033246664856301,1.0,0.7479882836494103,0.07827989274399556,0.04174704204758345,0.1609292743292377,0.17612923475461173,-0.02121352853892296,0.0071282154518813165,0.6559591141723343,0.17714736959046343],[-0.03678566247695533,-0.14809761877873323,0.15626889641934694,0.06426570926447134,0.15830972485910053,0.051488347005683895,0.04882761767380256,0.15213768847335338,0.17247132534897658,0.07863390991490536,0.07834589581492522,0.07096929907073836,0.07429003314502339,0.15760037240733668,0.17173495026780788,0.09245264910287272,0.7479882836494103,1.0,0.09316710856693762,0.06989367453591742,0.16114983426278187,0.1796917842321066,-0.030684295911857933,0.025941012047410627,0.20090807519828335,0.15031828864916216],[-0.02330415013338665,0.03469173920231544,-0.013109731037842827,0.5216316250704444,0.3654059309154795,0.18012029155800308,0.18848938907936238,-0.005622864365538082,0.01083183504696984,-0.14178080979757912,0.5514380100081998,0.33754136965631326,0.31970166708743697,0.00635272526146392,0.01530752633545712,0.4493037726152684,0.07827989274399556,0.09316710856693762,1.0,0.4666883517787959,0.00540174334187084,0.016284825268607715,0.0209756539084701,0.04220386765779937,0.0351583825031104,-0.0010170072576208954],[-0.03165342053005453,-0.0066208531023157595,0.029474800600396284,0.22364951778578737,0.24200823310693745,0.5068988555829571,0.5095405807684739,0.03747818993588388,0.015429309753130048,-0.06343153251924248,0.3455010917194878,0.6615950958155854,0.6653407611874195,0.0456249581290152,0.019512728426438322,0.2922344064332464,0.04174704204758345,0.06989367453591742,0.4666883517787959,1.0,0.05034296596789153,0.020228360299656935,0.008180289796517524,0.03518256790413367,0.006787960486026314,0.036949227549456946],[-0.13106135690551432,-0.2701174023470663,0.2510540004324212,0.25353035163109283,0.3076458894931909,0.1339265272791859,0.14138893285850546,0.9169767441129361,0.7079694292571636,0.010697982606244681,0.36745339888819883,0.2264507967262197,0.21721816175698166,0.9800212398653552,0.7819936219684908,0.4048791375071659,0.1609292743292377,0.16114983426278187,0.00540174334187084,0.05034296596789153,1.0,0.7867603408969269,0.05960485440335623,0.09386372708955552,0.13705928092004602,0.8801155704240089],[-0.10689156479268867,-0.2731164767038867,0.23216989183804562,0.22514933988939811,0.22786932239916738,0.12429759834573875,0.1307494659361319,0.7207072670228313,0.9100053167456441,0.016523977321829964,0.2762438483398095,0.19505282191663342,0.18742141946828464,0.7720855849025546,0.9753662478614613,0.3092789682572368,0.17612923475461173,0.1796917842321066,0.016284825268607715,0.020228360299656935,0.7867603408969269,1.0,0.14240128836973287,0.08059124404388313,0.14678030143885465,0.6994116345876479],[0.12528886721438973,-0.015017521816885048,-0.042871674541754584,0.02171358073066437,-0.002335389717372822,0.01824849384317349,0.019366596082569007,0.05107653760661689,0.13346752980688092,-0.010937129741035558,0.026606836185230808,0.02167768170719573,0.02048065032516311,0.051608020937607635,0.12967052486434372,0.017832047522039957,-0.02121352853892296,-0.030684295911857933,0.0209756539084701,0.008180289796517524,0.05960485440335623,0.14240128836973287,1.0,-0.10365556292724983,-0.0009676848448040774,0.048620009740206686],[-0.8811939518717816,-0.10616768432911877,0.3024180172362507,0.04998000158476713,0.07018548853704187,0.01974122660389316,0.021043609986568,0.0747806148292384,0.06614830310309536,-0.20931284691073115,0.09958764076322385,0.04614900046324431,0.04279471487923477,0.13365577459819686,0.12513150768276232,0.08215418214467306,0.0071282154518813165,0.025941012047410627,0.04220386765779937,0.03518256790413367,0.09386372708955552,0.08059124404388313,-0.10365556292724983,1.0,-0.00433460747636237,0.0633482289953903],[0.007539621321400578,-0.1489482832474645,0.04192348100277644,0.05567597097053107,0.09551914560562436,0.036772864654500415,0.036303774450073795,0.15994630551784453,0.19333641616919106,0.11192312704124768,0.054221561209728666,0.036017977147469654,0.03450492508293717,0.12573054803781855,0.1324026777486607,0.08118775863909251,0.6559591141723343,0.20090807519828335,0.0351583825031104,0.006787960486026314,0.13705928092004602,0.14678030143885465,-0.0009676848448040774,-0.00433460747636237,1.0,0.16126366585080742],[-0.09946350454048968,-0.2613691929763769,0.22055999213658484,0.2919588168035876,0.38128312293274796,0.15573878698190008,0.16317783079353246,0.9672896966599276,0.7631622055345721,0.01460075557238637,0.3128481879572419,0.1954742446206033,0.1886091537182112,0.8608666371455713,0.6939638842363447,0.46708035092154854,0.17714736959046343,0.15031828864916216,-0.0010170072576208954,0.036949227549456946,0.8801155704240089,0.6994116345876479,0.048620009740206686,0.0633482289953903,0.16126366585080742,1.0]],\"type\":\"heatmap\",\"xaxis\":\"x\",\"yaxis\":\"y\",\"hovertemplate\":\"x: %{x}<br>y: %{y}<br>color: %{z}<extra></extra>\"}],                        {\"template\":{\"data\":{\"bar\":[{\"error_x\":{\"color\":\"#2a3f5f\"},\"error_y\":{\"color\":\"#2a3f5f\"},\"marker\":{\"line\":{\"color\":\"#E5ECF6\",\"width\":0.5},\"pattern\":{\"fillmode\":\"overlay\",\"size\":10,\"solidity\":0.2}},\"type\":\"bar\"}],\"barpolar\":[{\"marker\":{\"line\":{\"color\":\"#E5ECF6\",\"width\":0.5},\"pattern\":{\"fillmode\":\"overlay\",\"size\":10,\"solidity\":0.2}},\"type\":\"barpolar\"}],\"carpet\":[{\"aaxis\":{\"endlinecolor\":\"#2a3f5f\",\"gridcolor\":\"white\",\"linecolor\":\"white\",\"minorgridcolor\":\"white\",\"startlinecolor\":\"#2a3f5f\"},\"baxis\":{\"endlinecolor\":\"#2a3f5f\",\"gridcolor\":\"white\",\"linecolor\":\"white\",\"minorgridcolor\":\"white\",\"startlinecolor\":\"#2a3f5f\"},\"type\":\"carpet\"}],\"choropleth\":[{\"colorbar\":{\"outlinewidth\":0,\"ticks\":\"\"},\"type\":\"choropleth\"}],\"contour\":[{\"colorbar\":{\"outlinewidth\":0,\"ticks\":\"\"},\"colorscale\":[[0.0,\"#0d0887\"],[0.1111111111111111,\"#46039f\"],[0.2222222222222222,\"#7201a8\"],[0.3333333333333333,\"#9c179e\"],[0.4444444444444444,\"#bd3786\"],[0.5555555555555556,\"#d8576b\"],[0.6666666666666666,\"#ed7953\"],[0.7777777777777778,\"#fb9f3a\"],[0.8888888888888888,\"#fdca26\"],[1.0,\"#f0f921\"]],\"type\":\"contour\"}],\"contourcarpet\":[{\"colorbar\":{\"outlinewidth\":0,\"ticks\":\"\"},\"type\":\"contourcarpet\"}],\"heatmap\":[{\"colorbar\":{\"outlinewidth\":0,\"ticks\":\"\"},\"colorscale\":[[0.0,\"#0d0887\"],[0.1111111111111111,\"#46039f\"],[0.2222222222222222,\"#7201a8\"],[0.3333333333333333,\"#9c179e\"],[0.4444444444444444,\"#bd3786\"],[0.5555555555555556,\"#d8576b\"],[0.6666666666666666,\"#ed7953\"],[0.7777777777777778,\"#fb9f3a\"],[0.8888888888888888,\"#fdca26\"],[1.0,\"#f0f921\"]],\"type\":\"heatmap\"}],\"heatmapgl\":[{\"colorbar\":{\"outlinewidth\":0,\"ticks\":\"\"},\"colorscale\":[[0.0,\"#0d0887\"],[0.1111111111111111,\"#46039f\"],[0.2222222222222222,\"#7201a8\"],[0.3333333333333333,\"#9c179e\"],[0.4444444444444444,\"#bd3786\"],[0.5555555555555556,\"#d8576b\"],[0.6666666666666666,\"#ed7953\"],[0.7777777777777778,\"#fb9f3a\"],[0.8888888888888888,\"#fdca26\"],[1.0,\"#f0f921\"]],\"type\":\"heatmapgl\"}],\"histogram\":[{\"marker\":{\"pattern\":{\"fillmode\":\"overlay\",\"size\":10,\"solidity\":0.2}},\"type\":\"histogram\"}],\"histogram2d\":[{\"colorbar\":{\"outlinewidth\":0,\"ticks\":\"\"},\"colorscale\":[[0.0,\"#0d0887\"],[0.1111111111111111,\"#46039f\"],[0.2222222222222222,\"#7201a8\"],[0.3333333333333333,\"#9c179e\"],[0.4444444444444444,\"#bd3786\"],[0.5555555555555556,\"#d8576b\"],[0.6666666666666666,\"#ed7953\"],[0.7777777777777778,\"#fb9f3a\"],[0.8888888888888888,\"#fdca26\"],[1.0,\"#f0f921\"]],\"type\":\"histogram2d\"}],\"histogram2dcontour\":[{\"colorbar\":{\"outlinewidth\":0,\"ticks\":\"\"},\"colorscale\":[[0.0,\"#0d0887\"],[0.1111111111111111,\"#46039f\"],[0.2222222222222222,\"#7201a8\"],[0.3333333333333333,\"#9c179e\"],[0.4444444444444444,\"#bd3786\"],[0.5555555555555556,\"#d8576b\"],[0.6666666666666666,\"#ed7953\"],[0.7777777777777778,\"#fb9f3a\"],[0.8888888888888888,\"#fdca26\"],[1.0,\"#f0f921\"]],\"type\":\"histogram2dcontour\"}],\"mesh3d\":[{\"colorbar\":{\"outlinewidth\":0,\"ticks\":\"\"},\"type\":\"mesh3d\"}],\"parcoords\":[{\"line\":{\"colorbar\":{\"outlinewidth\":0,\"ticks\":\"\"}},\"type\":\"parcoords\"}],\"pie\":[{\"automargin\":true,\"type\":\"pie\"}],\"scatter\":[{\"marker\":{\"colorbar\":{\"outlinewidth\":0,\"ticks\":\"\"}},\"type\":\"scatter\"}],\"scatter3d\":[{\"line\":{\"colorbar\":{\"outlinewidth\":0,\"ticks\":\"\"}},\"marker\":{\"colorbar\":{\"outlinewidth\":0,\"ticks\":\"\"}},\"type\":\"scatter3d\"}],\"scattercarpet\":[{\"marker\":{\"colorbar\":{\"outlinewidth\":0,\"ticks\":\"\"}},\"type\":\"scattercarpet\"}],\"scattergeo\":[{\"marker\":{\"colorbar\":{\"outlinewidth\":0,\"ticks\":\"\"}},\"type\":\"scattergeo\"}],\"scattergl\":[{\"marker\":{\"colorbar\":{\"outlinewidth\":0,\"ticks\":\"\"}},\"type\":\"scattergl\"}],\"scattermapbox\":[{\"marker\":{\"colorbar\":{\"outlinewidth\":0,\"ticks\":\"\"}},\"type\":\"scattermapbox\"}],\"scatterpolar\":[{\"marker\":{\"colorbar\":{\"outlinewidth\":0,\"ticks\":\"\"}},\"type\":\"scatterpolar\"}],\"scatterpolargl\":[{\"marker\":{\"colorbar\":{\"outlinewidth\":0,\"ticks\":\"\"}},\"type\":\"scatterpolargl\"}],\"scatterternary\":[{\"marker\":{\"colorbar\":{\"outlinewidth\":0,\"ticks\":\"\"}},\"type\":\"scatterternary\"}],\"surface\":[{\"colorbar\":{\"outlinewidth\":0,\"ticks\":\"\"},\"colorscale\":[[0.0,\"#0d0887\"],[0.1111111111111111,\"#46039f\"],[0.2222222222222222,\"#7201a8\"],[0.3333333333333333,\"#9c179e\"],[0.4444444444444444,\"#bd3786\"],[0.5555555555555556,\"#d8576b\"],[0.6666666666666666,\"#ed7953\"],[0.7777777777777778,\"#fb9f3a\"],[0.8888888888888888,\"#fdca26\"],[1.0,\"#f0f921\"]],\"type\":\"surface\"}],\"table\":[{\"cells\":{\"fill\":{\"color\":\"#EBF0F8\"},\"line\":{\"color\":\"white\"}},\"header\":{\"fill\":{\"color\":\"#C8D4E3\"},\"line\":{\"color\":\"white\"}},\"type\":\"table\"}]},\"layout\":{\"annotationdefaults\":{\"arrowcolor\":\"#2a3f5f\",\"arrowhead\":0,\"arrowwidth\":1},\"autotypenumbers\":\"strict\",\"coloraxis\":{\"colorbar\":{\"outlinewidth\":0,\"ticks\":\"\"}},\"colorscale\":{\"diverging\":[[0,\"#8e0152\"],[0.1,\"#c51b7d\"],[0.2,\"#de77ae\"],[0.3,\"#f1b6da\"],[0.4,\"#fde0ef\"],[0.5,\"#f7f7f7\"],[0.6,\"#e6f5d0\"],[0.7,\"#b8e186\"],[0.8,\"#7fbc41\"],[0.9,\"#4d9221\"],[1,\"#276419\"]],\"sequential\":[[0.0,\"#0d0887\"],[0.1111111111111111,\"#46039f\"],[0.2222222222222222,\"#7201a8\"],[0.3333333333333333,\"#9c179e\"],[0.4444444444444444,\"#bd3786\"],[0.5555555555555556,\"#d8576b\"],[0.6666666666666666,\"#ed7953\"],[0.7777777777777778,\"#fb9f3a\"],[0.8888888888888888,\"#fdca26\"],[1.0,\"#f0f921\"]],\"sequentialminus\":[[0.0,\"#0d0887\"],[0.1111111111111111,\"#46039f\"],[0.2222222222222222,\"#7201a8\"],[0.3333333333333333,\"#9c179e\"],[0.4444444444444444,\"#bd3786\"],[0.5555555555555556,\"#d8576b\"],[0.6666666666666666,\"#ed7953\"],[0.7777777777777778,\"#fb9f3a\"],[0.8888888888888888,\"#fdca26\"],[1.0,\"#f0f921\"]]},\"colorway\":[\"#636efa\",\"#EF553B\",\"#00cc96\",\"#ab63fa\",\"#FFA15A\",\"#19d3f3\",\"#FF6692\",\"#B6E880\",\"#FF97FF\",\"#FECB52\"],\"font\":{\"color\":\"#2a3f5f\"},\"geo\":{\"bgcolor\":\"white\",\"lakecolor\":\"white\",\"landcolor\":\"#E5ECF6\",\"showlakes\":true,\"showland\":true,\"subunitcolor\":\"white\"},\"hoverlabel\":{\"align\":\"left\"},\"hovermode\":\"closest\",\"mapbox\":{\"style\":\"light\"},\"paper_bgcolor\":\"white\",\"plot_bgcolor\":\"#E5ECF6\",\"polar\":{\"angularaxis\":{\"gridcolor\":\"white\",\"linecolor\":\"white\",\"ticks\":\"\"},\"bgcolor\":\"#E5ECF6\",\"radialaxis\":{\"gridcolor\":\"white\",\"linecolor\":\"white\",\"ticks\":\"\"}},\"scene\":{\"xaxis\":{\"backgroundcolor\":\"#E5ECF6\",\"gridcolor\":\"white\",\"gridwidth\":2,\"linecolor\":\"white\",\"showbackground\":true,\"ticks\":\"\",\"zerolinecolor\":\"white\"},\"yaxis\":{\"backgroundcolor\":\"#E5ECF6\",\"gridcolor\":\"white\",\"gridwidth\":2,\"linecolor\":\"white\",\"showbackground\":true,\"ticks\":\"\",\"zerolinecolor\":\"white\"},\"zaxis\":{\"backgroundcolor\":\"#E5ECF6\",\"gridcolor\":\"white\",\"gridwidth\":2,\"linecolor\":\"white\",\"showbackground\":true,\"ticks\":\"\",\"zerolinecolor\":\"white\"}},\"shapedefaults\":{\"line\":{\"color\":\"#2a3f5f\"}},\"ternary\":{\"aaxis\":{\"gridcolor\":\"white\",\"linecolor\":\"white\",\"ticks\":\"\"},\"baxis\":{\"gridcolor\":\"white\",\"linecolor\":\"white\",\"ticks\":\"\"},\"bgcolor\":\"#E5ECF6\",\"caxis\":{\"gridcolor\":\"white\",\"linecolor\":\"white\",\"ticks\":\"\"}},\"title\":{\"x\":0.05},\"xaxis\":{\"automargin\":true,\"gridcolor\":\"white\",\"linecolor\":\"white\",\"ticks\":\"\",\"title\":{\"standoff\":15},\"zerolinecolor\":\"white\",\"zerolinewidth\":2},\"yaxis\":{\"automargin\":true,\"gridcolor\":\"white\",\"linecolor\":\"white\",\"ticks\":\"\",\"title\":{\"standoff\":15},\"zerolinecolor\":\"white\",\"zerolinewidth\":2}}},\"xaxis\":{\"anchor\":\"y\",\"domain\":[0.0,1.0],\"scaleanchor\":\"y\",\"constrain\":\"domain\"},\"yaxis\":{\"anchor\":\"x\",\"domain\":[0.0,1.0],\"autorange\":\"reversed\",\"constrain\":\"domain\"},\"coloraxis\":{\"colorscale\":[[0.0,\"#0d0887\"],[0.1111111111111111,\"#46039f\"],[0.2222222222222222,\"#7201a8\"],[0.3333333333333333,\"#9c179e\"],[0.4444444444444444,\"#bd3786\"],[0.5555555555555556,\"#d8576b\"],[0.6666666666666666,\"#ed7953\"],[0.7777777777777778,\"#fb9f3a\"],[0.8888888888888888,\"#fdca26\"],[1.0,\"#f0f921\"]]},\"margin\":{\"t\":60},\"height\":700,\"width\":700},                        {\"responsive\": true}                    ).then(function(){\n",
              "                            \n",
              "var gd = document.getElementById('c2619326-7b3b-4e95-a5f1-11ad1a4528e0');\n",
              "var x = new MutationObserver(function (mutations, observer) {{\n",
              "        var display = window.getComputedStyle(gd).display;\n",
              "        if (!display || display === 'none') {{\n",
              "            console.log([gd, 'removed!']);\n",
              "            Plotly.purge(gd);\n",
              "            observer.disconnect();\n",
              "        }}\n",
              "}});\n",
              "\n",
              "// Listen for the removal of the full notebook cells\n",
              "var notebookContainer = gd.closest('#notebook-container');\n",
              "if (notebookContainer) {{\n",
              "    x.observe(notebookContainer, {childList: true});\n",
              "}}\n",
              "\n",
              "// Listen for the clearing of the current output cell\n",
              "var outputEl = gd.closest('.output');\n",
              "if (outputEl) {{\n",
              "    x.observe(outputEl, {childList: true});\n",
              "}}\n",
              "\n",
              "                        })                };                            </script>        </div>\n",
              "</body>\n",
              "</html>"
            ]
          },
          "metadata": {}
        }
      ]
    },
    {
      "cell_type": "markdown",
      "source": [
        "Now, let’s use the generalized linear model to gain some statistics of the respective features with the target."
      ],
      "metadata": {
        "id": "px3PD7e2gvPp"
      }
    },
    {
      "cell_type": "code",
      "source": [
        "glm_columns = [c for c in relevant_data_players.columns if c not in ['customerID', 'Churn']]\n",
        "glm_columns = ' + '.join(map(str, glm_columns))\n",
        "\n",
        "glm_model = smf.glm(formula=f'Churn ~ {glm_columns}', data=relevant_data_players, family=sm.families.Binomial())\n",
        "res = glm_model.fit()\n",
        "print(res.summary())"
      ],
      "metadata": {
        "colab": {
          "base_uri": "https://localhost:8080/"
        },
        "id": "CKmN-p37gpd8",
        "outputId": "5a0146d6-4117-4dd0-f9e7-25f143f35d16"
      },
      "execution_count": 60,
      "outputs": [
        {
          "output_type": "stream",
          "name": "stdout",
          "text": [
            "                 Generalized Linear Model Regression Results                  \n",
            "==============================================================================\n",
            "Dep. Variable:                  Churn   No. Observations:                 8049\n",
            "Model:                            GLM   Df Residuals:                     8014\n",
            "Model Family:                Binomial   Df Model:                           34\n",
            "Link Function:                  Logit   Scale:                          1.0000\n",
            "Method:                          IRLS   Log-Likelihood:                -2922.9\n",
            "Date:                Fri, 03 Mar 2023   Deviance:                       5845.7\n",
            "Time:                        21:32:34   Pearson chi2:                 1.86e+06\n",
            "No. Iterations:                    10   Pseudo R-squ. (CS):             0.2096\n",
            "Covariance Type:            nonrobust                                         \n",
            "=============================================================================================\n",
            "                                coef    std err          z      P>|z|      [0.025      0.975]\n",
            "---------------------------------------------------------------------------------------------\n",
            "Intercept                     1.0613      0.337      3.146      0.002       0.400       1.722\n",
            "City[T.1]                     0.0851      0.103      0.830      0.406      -0.116       0.286\n",
            "City[T.2]                     0.1325      0.103      1.287      0.198      -0.069       0.334\n",
            "City[T.3]                     0.1879      0.102      1.846      0.065      -0.012       0.387\n",
            "City[T.4]                     0.0961      0.103      0.932      0.351      -0.106       0.298\n",
            "IsOptOut[T.1]                 0.2023      0.090      2.242      0.025       0.025       0.379\n",
            "RegistrationTerminal[T.1]    -0.0928      0.151     -0.614      0.539      -0.389       0.203\n",
            "RegistrationTerminal[T.2]    -0.2242      0.177     -1.264      0.206      -0.572       0.124\n",
            "RegistrationTerminal[T.3]    -0.0837      0.257     -0.326      0.744      -0.587       0.419\n",
            "RegistrationTerminal[T.4]    -0.3755      0.231     -1.623      0.105      -0.829       0.078\n",
            "PlayerId                   1.895e-05   1.28e-05      1.477      0.140   -6.19e-06    4.41e-05\n",
            "TransactionTenure            -0.4899      0.060     -8.229      0.000      -0.607      -0.373\n",
            "MonthBonus                    0.0023      0.004      0.621      0.534      -0.005       0.009\n",
            "MonthWithdrawal               0.0013      0.001      1.292      0.196      -0.001       0.003\n",
            "MonthWin                     -0.0012      0.001     -1.243      0.214      -0.003       0.001\n",
            "MonthPayin                    0.0013      0.001      1.270      0.204      -0.001       0.003\n",
            "MonthFreqDeposit             -0.1331      0.025     -5.397      0.000      -0.181      -0.085\n",
            "MonthFreqPayin               -0.0093      0.004     -2.493      0.013      -0.017      -0.002\n",
            "Product                       0.0200      0.013      1.540      0.124      -0.005       0.045\n",
            "TotalDeposit                  0.0003      0.000      1.467      0.142      -0.000       0.001\n",
            "TotalPayin                   -0.0004      0.000     -1.999      0.046      -0.001   -8.01e-06\n",
            "TotalWin                      0.0004      0.000      1.877      0.060   -1.62e-05       0.001\n",
            "TotalDepositCount             0.0258      0.014      1.870      0.062      -0.001       0.053\n",
            "TotalPayinCount               0.0053      0.003      1.768      0.077      -0.001       0.011\n",
            "MonthDeposit                 -0.0022      0.001     -1.730      0.084      -0.005       0.000\n",
            "MonthRatioWinPayin            0.1262      0.139      0.906      0.365      -0.147       0.399\n",
            "OverallRatioWinPayin         -0.2976      0.133     -2.235      0.025      -0.559      -0.037\n",
            "OverallAverageDeposit         0.0061      0.002      2.579      0.010       0.001       0.011\n",
            "OverallAveragePayin           0.0004      0.001      0.523      0.601      -0.001       0.002\n",
            "OverallFreqDeposit           -0.0698      0.042     -1.666      0.096      -0.152       0.012\n",
            "OverallFreqPayin             -0.0244      0.009     -2.706      0.007      -0.042      -0.007\n",
            "Age                          -0.0264      0.066     -0.399      0.690      -0.156       0.103\n",
            "RegistrationTenure           -0.0018      0.003     -0.515      0.607      -0.009       0.005\n",
            "RatioOverallMonthWinPayin    -0.2920      0.110     -2.664      0.008      -0.507      -0.077\n",
            "RatioOverallMonthDeposit      0.0296      0.021      1.400      0.161      -0.012       0.071\n",
            "=============================================================================================\n"
          ]
        }
      ]
    },
    {
      "cell_type": "markdown",
      "source": [
        "P>|z| column tells us which features make customers churn or not. If the value of the column is less than 0.05, it means that the feature affects Churn in a statistically significant way. <br>\n",
        "The second fact here is which features are most important for training our model with high performance. That we can find out by looking at the exponential coefficient values, which estimate the expected change in churn through a given feature by a change of one unit. <br>\n",
        "Values more than 1 indicate increased churn, while values less than 1 indicate that churn is happening less."
      ],
      "metadata": {
        "id": "Fqk-zR_Gh2ab"
      }
    },
    {
      "cell_type": "code",
      "source": [
        "np.exp(res.params)"
      ],
      "metadata": {
        "colab": {
          "base_uri": "https://localhost:8080/"
        },
        "id": "MelmpKvRiRg_",
        "outputId": "5ea48211-31ef-4b4a-e1bf-dfe9ef4dce89"
      },
      "execution_count": 61,
      "outputs": [
        {
          "output_type": "execute_result",
          "data": {
            "text/plain": [
              "Intercept                    2.890057\n",
              "City[T.1]                    1.088871\n",
              "City[T.2]                    1.141694\n",
              "City[T.3]                    1.206654\n",
              "City[T.4]                    1.100841\n",
              "IsOptOut[T.1]                1.224180\n",
              "RegistrationTerminal[T.1]    0.911405\n",
              "RegistrationTerminal[T.2]    0.799143\n",
              "RegistrationTerminal[T.3]    0.919693\n",
              "RegistrationTerminal[T.4]    0.686912\n",
              "PlayerId                     1.000019\n",
              "TransactionTenure            0.612706\n",
              "MonthBonus                   1.002275\n",
              "MonthWithdrawal              1.001274\n",
              "MonthWin                     0.998769\n",
              "MonthPayin                   1.001267\n",
              "MonthFreqDeposit             0.875394\n",
              "MonthFreqPayin               0.990747\n",
              "Product                      1.020191\n",
              "TotalDeposit                 1.000339\n",
              "TotalPayin                   0.999588\n",
              "TotalWin                     1.000369\n",
              "TotalDepositCount            1.026101\n",
              "TotalPayinCount              1.005289\n",
              "MonthDeposit                 0.997820\n",
              "MonthRatioWinPayin           1.134504\n",
              "OverallRatioWinPayin         0.742576\n",
              "OverallAverageDeposit        1.006072\n",
              "OverallAveragePayin          1.000450\n",
              "OverallFreqDeposit           0.932537\n",
              "OverallFreqPayin             0.975876\n",
              "Age                          0.973960\n",
              "RegistrationTenure           0.998208\n",
              "RatioOverallMonthWinPayin    0.746756\n",
              "RatioOverallMonthDeposit     1.030036\n",
              "dtype: float64"
            ]
          },
          "metadata": {},
          "execution_count": 61
        }
      ]
    },
    {
      "cell_type": "markdown",
      "source": [
        "The range of all features should be normalized so that each feature contributes approximately proportionately to the final distance, so we do feature scaling."
      ],
      "metadata": {
        "id": "vi_OK7n_kTtg"
      }
    },
    {
      "cell_type": "code",
      "source": [
        "sc = MinMaxScaler()\n",
        "relevant_data_players['RegistrationTenure'] = sc.fit_transform(relevant_data_players[['RegistrationTenure']])\n",
        "relevant_data_players['TransactionTenure'] = sc.fit_transform(relevant_data_players[['TransactionTenure']])\n",
        "relevant_data_players['MonthBonus'] = sc.fit_transform(relevant_data_players[['RegistrationTenure']])\n",
        "relevant_data_players['MonthWithdrawal'] = sc.fit_transform(relevant_data_players[['MonthWithdrawal']])\n",
        "relevant_data_players['MonthWin'] = sc.fit_transform(relevant_data_players[['MonthWin']])\n",
        "relevant_data_players['MonthPayin'] = sc.fit_transform(relevant_data_players[['MonthPayin']])\n",
        "relevant_data_players['MonthFreqDeposit'] = sc.fit_transform(relevant_data_players[['MonthFreqDeposit']])\n",
        "relevant_data_players['MonthFreqPayin'] = sc.fit_transform(relevant_data_players[['MonthFreqPayin']])\n",
        "relevant_data_players['TotalDeposit'] = sc.fit_transform(relevant_data_players[['TotalDeposit']])\n",
        "relevant_data_players['TotalPayin'] = sc.fit_transform(relevant_data_players[['TotalPayin']])\n",
        "relevant_data_players['TotalWin'] = sc.fit_transform(relevant_data_players[['TotalWin']])\n",
        "relevant_data_players['TotalDepositCount'] = sc.fit_transform(relevant_data_players[['TotalDepositCount']])\n",
        "relevant_data_players['TotalPayinCount'] = sc.fit_transform(relevant_data_players[['TotalPayinCount']]) \n",
        "relevant_data_players['OverallAverageDeposit'] = sc.fit_transform(relevant_data_players[['OverallAverageDeposit']])\n",
        "relevant_data_players['OverallAveragePayin'] = sc.fit_transform(relevant_data_players[['OverallAveragePayin']])\n",
        "relevant_data_players['OverallFreqDeposit'] = sc.fit_transform(relevant_data_players[['OverallFreqDeposit']])\n",
        "relevant_data_players['OverallFreqPayin'] = sc.fit_transform(relevant_data_players[['OverallFreqPayin']])\n",
        "relevant_data_players['MonthRatioWinPayin'] = sc.fit_transform(relevant_data_players[['MonthRatioWinPayin']])\n",
        "relevant_data_players['OverallRatioWinPayin'] = sc.fit_transform(relevant_data_players[['OverallRatioWinPayin']])\n",
        "relevant_data_players['RatioOverallMonthWinPayin'] = sc.fit_transform(relevant_data_players[['RatioOverallMonthWinPayin']])\n",
        "relevant_data_players['RatioOverallMonthDeposit'] = sc.fit_transform(relevant_data_players[['RatioOverallMonthDeposit']])"
      ],
      "metadata": {
        "id": "V4f1xdDqkV3u"
      },
      "execution_count": 62,
      "outputs": []
    },
    {
      "cell_type": "markdown",
      "source": [
        "Let’s start creating a baseline model with a Logistic Regression algorithm. "
      ],
      "metadata": {
        "id": "HBBgIQI7lcU0"
      }
    },
    {
      "cell_type": "code",
      "source": [
        "from sklearn.linear_model import LogisticRegression \n",
        "class CustomLogisticRegression(LogisticRegression):   # we use the custom model so that we can pass both parameters max_iter and class_weight\n",
        "    \n",
        "    def __init__(self, solver='lbfgs', max_iter=1000, class_weight='balanced', **kwargs):\n",
        "        super().__init__(solver=solver, max_iter=max_iter, class_weight=class_weight, **kwargs)"
      ],
      "metadata": {
        "id": "JiklEesH5-1I"
      },
      "execution_count": 63,
      "outputs": []
    },
    {
      "cell_type": "code",
      "source": [
        "# import metric for performance evaluation\n",
        "from sklearn.metrics import accuracy_score, precision_score, recall_score, f1_score\n",
        "\n",
        "# split data into train and test sets\n",
        "from sklearn.model_selection import train_test_split\n",
        "\n",
        "X = relevant_data_players.drop(['Churn', 'PlayerId', 'MonthDeposit', 'OverallAveragePayin', 'City'], axis=1)\n",
        "y = relevant_data_players['Churn']\n",
        "X_train, X_test, y_train, y_test = train_test_split(X, y, test_size=0.3, random_state=50)\n",
        "\n",
        "def modeling(alg, alg_name, params={}):\n",
        "    model = alg() \n",
        "    model.fit(X_train, y_train)\n",
        "    y_pred = model.predict(X_test)\n",
        "     \n",
        "    tp = fp = tn = fn = 0 \n",
        "    for (i, j) in zip(y_test, y_pred):\n",
        "      if j == 0:\n",
        "        if i == 0:\n",
        "          tn = tn + 1\n",
        "        else:\n",
        "          fn = fn + 1\n",
        "      else:\n",
        "        if i == 0:\n",
        "          fp = fp + 1\n",
        "        else:\n",
        "          tp = tp + 1\n",
        "    print('tp, tn, fp, fn: ' + str(tp) + ' ' + str(tn) + ' ' + str(fp) + ' ' + str(fn))\n",
        "  \n",
        "    #Performance evaluation\n",
        "    def print_scores(alg, y_true, y_pred):\n",
        "        print(alg_name)\n",
        "        acc_score = accuracy_score(y_true, y_pred)\n",
        "        print(\"accuracy: \",acc_score)\n",
        "        pre_score = precision_score(y_true, y_pred)\n",
        "        print(\"precision: \",pre_score)\n",
        "        rec_score = recall_score(y_true, y_pred)\n",
        "        print(\"recall: \",rec_score)\n",
        "        f_score = f1_score(y_true, y_pred, average='weighted')\n",
        "        print(\"f1_score: \",f_score)\n",
        "\n",
        "    print_scores(alg, y_test, y_pred)\n",
        "    return model\n",
        "\n",
        "# Running logistic regression model\n",
        "log_model = modeling(CustomLogisticRegression, 'Logistic Regression')"
      ],
      "metadata": {
        "id": "XbMN9rEvldPC"
      },
      "execution_count": null,
      "outputs": []
    },
    {
      "cell_type": "markdown",
      "source": [
        "We can see that accuracy is not great, but what is important in building a churnig prediction model is to have a good recall, that is not to have a lot of false negatives, which are churners that were labeled as non-churners. Let's see if other models will be more successful."
      ],
      "metadata": {
        "id": "cRJJEUIBDhey"
      }
    },
    {
      "cell_type": "code",
      "source": [
        "from sklearn.svm import SVC\n",
        "from sklearn.ensemble import RandomForestClassifier\n",
        "from sklearn.tree import DecisionTreeClassifier\n",
        "from sklearn.naive_bayes import GaussianNB\n",
        "\n",
        "# Running SVC model\n",
        "log_model = modeling(SVC, 'Support Vector Classifier')\n",
        "\n",
        "# Running RandomForestClassifier model\n",
        "log_model = modeling(RandomForestClassifier, 'Random Forest Classifier')\n",
        "\n",
        "# Running DecisionTreeClassifier model\n",
        "log_model = modeling(DecisionTreeClassifier, 'Decision Tree Classifier')\n",
        "\n",
        "# Running GaussianNB model\n",
        "log_model = modeling(GaussianNB, 'Gaussian Naive Bayes')"
      ],
      "metadata": {
        "id": "_qnEUqBOUjsl"
      },
      "execution_count": null,
      "outputs": []
    },
    {
      "cell_type": "markdown",
      "source": [
        "We can see that Random forest classifier is higher in accuracy, but its recall is low, which is not good.\n",
        "Other models are not so accurate given our features, except Naive Bayes which has a good level of recall. <br>\n",
        "To better improve upon the models, we would need to collect more data or engineer our features in a way that they would be more useful in training our model."
      ],
      "metadata": {
        "id": "3pgMigk0Vtsf"
      }
    },
    {
      "cell_type": "markdown",
      "source": [
        "References: https://neptune.ai/blog/how-to-implement-customer-churn-prediction#:~:text=Importance%20of%20customer%20churn%20prediction&text=Machine%20learning%20and%20data%20analysis,churn%20and%20increase%20customer%20retention. <br>\n",
        "https://www.kdnuggets.com/2022/07/logistic-regression-work.html#:~:text=is%20Logistic%20Regression%3F-,Logistic%20regression%20is%20a%20Machine%20Learning%20classification%20algorithm%20that%20is,the%20logistic%20of%20the%20result. <br>\n",
        "https://stackoverflow.com/ <br>\n",
        "chatGPT helping with python syntax and pandas dataframe management"
      ],
      "metadata": {
        "id": "2IQRX6giDy_6"
      }
    },
    {
      "cell_type": "markdown",
      "source": [
        "Author: Fran Zvonimir Zgombić"
      ],
      "metadata": {
        "id": "eE0CtCTHEbAz"
      }
    }
  ]
}